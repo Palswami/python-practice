{
  "nbformat": 4,
  "nbformat_minor": 0,
  "metadata": {
    "kernelspec": {
      "display_name": "Python 3",
      "language": "python",
      "name": "python3"
    },
    "language_info": {
      "codemirror_mode": {
        "name": "ipython",
        "version": 3
      },
      "file_extension": ".py",
      "mimetype": "text/x-python",
      "name": "python",
      "nbconvert_exporter": "python",
      "pygments_lexer": "ipython3",
      "version": "3.8.3"
    },
    "toc": {
      "base_numbering": 1,
      "nav_menu": {},
      "number_sections": true,
      "sideBar": true,
      "skip_h1_title": false,
      "title_cell": "Table of Contents",
      "title_sidebar": "Contents",
      "toc_cell": false,
      "toc_position": {},
      "toc_section_display": true,
      "toc_window_display": false
    },
    "colab": {
      "name": "1. Datatypes.ipynb",
      "provenance": [],
      "include_colab_link": true
    }
  },
  "cells": [
    {
      "cell_type": "markdown",
      "metadata": {
        "id": "view-in-github",
        "colab_type": "text"
      },
      "source": [
        "<a href=\"https://colab.research.google.com/github/nisharajupal/python-practice/blob/main/1_Datatypes.ipynb\" target=\"_parent\"><img src=\"https://colab.research.google.com/assets/colab-badge.svg\" alt=\"Open In Colab\"/></a>"
      ]
    },
    {
      "cell_type": "markdown",
      "metadata": {
        "id": "OLQWc223k8Ya"
      },
      "source": [
        "# Introduction To Datatypes"
      ]
    },
    {
      "cell_type": "code",
      "metadata": {
        "id": "oq-8sHLbk8Ye"
      },
      "source": [
        "i = 10"
      ],
      "execution_count": null,
      "outputs": []
    },
    {
      "cell_type": "code",
      "metadata": {
        "id": "ehSRrBdIk8Yf",
        "outputId": "94985ed4-2c1f-45a1-ed81-3e59af5b66db"
      },
      "source": [
        "type(i)"
      ],
      "execution_count": null,
      "outputs": [
        {
          "data": {
            "text/plain": [
              "int"
            ]
          },
          "execution_count": 2,
          "metadata": {},
          "output_type": "execute_result"
        }
      ]
    },
    {
      "cell_type": "code",
      "metadata": {
        "id": "7NalZxR4k8Yg",
        "outputId": "837465ed-7b1e-45dc-e7c9-8a924203b2a7"
      },
      "source": [
        "print(type(i))"
      ],
      "execution_count": null,
      "outputs": [
        {
          "name": "stdout",
          "output_type": "stream",
          "text": [
            "<class 'int'>\n"
          ]
        }
      ]
    },
    {
      "cell_type": "code",
      "metadata": {
        "id": "5wdocLpck8Yh",
        "outputId": "e88b527c-9236-4a30-a279-9ee3bceba261"
      },
      "source": [
        "id(i)"
      ],
      "execution_count": null,
      "outputs": [
        {
          "data": {
            "text/plain": [
              "140706917201984"
            ]
          },
          "execution_count": 4,
          "metadata": {},
          "output_type": "execute_result"
        }
      ]
    },
    {
      "cell_type": "code",
      "metadata": {
        "id": "Qve-QNWZk8Yi",
        "outputId": "d5f290b6-ee53-4944-e356-216b6b5e3164"
      },
      "source": [
        "i"
      ],
      "execution_count": null,
      "outputs": [
        {
          "data": {
            "text/plain": [
              "10"
            ]
          },
          "execution_count": 5,
          "metadata": {},
          "output_type": "execute_result"
        }
      ]
    },
    {
      "cell_type": "code",
      "metadata": {
        "id": "T0IHArOxk8Yi",
        "outputId": "a85aabe7-6597-4235-8f08-3587ab83f5f8"
      },
      "source": [
        "print(i)"
      ],
      "execution_count": null,
      "outputs": [
        {
          "name": "stdout",
          "output_type": "stream",
          "text": [
            "10\n"
          ]
        }
      ]
    },
    {
      "cell_type": "markdown",
      "metadata": {
        "id": "TUkgvBh5k8Yj"
      },
      "source": [
        "# Strings\n",
        "* Strings - a collection of characters\n",
        "* can be defined using either double quotes or single quotes\n",
        "* IMMUTABLE"
      ]
    },
    {
      "cell_type": "code",
      "metadata": {
        "id": "sb5ZQbn4k8Yk"
      },
      "source": [
        "# Hash is used to define any comments"
      ],
      "execution_count": null,
      "outputs": []
    },
    {
      "cell_type": "code",
      "metadata": {
        "id": "nLfS7-iik8Yl"
      },
      "source": [
        "s = \"WELCOME\""
      ],
      "execution_count": null,
      "outputs": []
    },
    {
      "cell_type": "code",
      "metadata": {
        "id": "Ck-zh4e7k8Ym",
        "outputId": "5de36fa6-5c6d-4bd7-f8ab-0143bfbab42d"
      },
      "source": [
        "print(type(s))"
      ],
      "execution_count": null,
      "outputs": [
        {
          "name": "stdout",
          "output_type": "stream",
          "text": [
            "<class 'str'>\n"
          ]
        }
      ]
    },
    {
      "cell_type": "code",
      "metadata": {
        "id": "Dml0dF-Yk8Ym",
        "outputId": "c4aa177c-548b-4cfb-8274-2afc24a4033e"
      },
      "source": [
        "len(s)"
      ],
      "execution_count": null,
      "outputs": [
        {
          "data": {
            "text/plain": [
              "7"
            ]
          },
          "execution_count": 12,
          "metadata": {},
          "output_type": "execute_result"
        }
      ]
    },
    {
      "cell_type": "code",
      "metadata": {
        "id": "42Qj8qtPk8Yn"
      },
      "source": [
        "# len => is a function, same function can be used to find the length of list, tuple, dict..."
      ],
      "execution_count": null,
      "outputs": []
    },
    {
      "cell_type": "markdown",
      "metadata": {
        "id": "MJnZtdRLk8Yn"
      },
      "source": [
        "### Indexing"
      ]
    },
    {
      "cell_type": "markdown",
      "metadata": {
        "id": "xLprEXpQk8Yo"
      },
      "source": [
        "### Positive Indexing"
      ]
    },
    {
      "cell_type": "code",
      "metadata": {
        "id": "s4JnVOtQk8Yo"
      },
      "source": [
        "# The index starts from 0 (Zero) to length-1 \n",
        "# To access any element, always use subscript operator []"
      ],
      "execution_count": null,
      "outputs": []
    },
    {
      "cell_type": "code",
      "metadata": {
        "id": "eNyF0p2Kk8Yo",
        "outputId": "2441ca94-2af7-4f2d-801f-ea41f8e1c241"
      },
      "source": [
        "s[0]"
      ],
      "execution_count": null,
      "outputs": [
        {
          "data": {
            "text/plain": [
              "'W'"
            ]
          },
          "execution_count": 15,
          "metadata": {},
          "output_type": "execute_result"
        }
      ]
    },
    {
      "cell_type": "code",
      "metadata": {
        "id": "S2TyS6gFk8Yp",
        "outputId": "19b23008-d2d0-4fb4-f411-2d422df7e610"
      },
      "source": [
        "s[6]"
      ],
      "execution_count": null,
      "outputs": [
        {
          "data": {
            "text/plain": [
              "'E'"
            ]
          },
          "execution_count": 16,
          "metadata": {},
          "output_type": "execute_result"
        }
      ]
    },
    {
      "cell_type": "code",
      "metadata": {
        "id": "WWuVDn7lk8Yp",
        "outputId": "cd06c307-3050-49c6-a5e7-b3012a18d541"
      },
      "source": [
        "s[7]"
      ],
      "execution_count": null,
      "outputs": [
        {
          "ename": "IndexError",
          "evalue": "string index out of range",
          "output_type": "error",
          "traceback": [
            "\u001b[1;31m---------------------------------------------------------------------------\u001b[0m",
            "\u001b[1;31mIndexError\u001b[0m                                Traceback (most recent call last)",
            "\u001b[1;32m<ipython-input-17-b035325af127>\u001b[0m in \u001b[0;36m<module>\u001b[1;34m\u001b[0m\n\u001b[1;32m----> 1\u001b[1;33m \u001b[0ms\u001b[0m\u001b[1;33m[\u001b[0m\u001b[1;36m7\u001b[0m\u001b[1;33m]\u001b[0m\u001b[1;33m\u001b[0m\u001b[1;33m\u001b[0m\u001b[0m\n\u001b[0m",
            "\u001b[1;31mIndexError\u001b[0m: string index out of range"
          ]
        }
      ]
    },
    {
      "cell_type": "code",
      "metadata": {
        "id": "6KaQZFVVk8Yp",
        "outputId": "06b90608-da65-4713-b695-57d927bc1cab"
      },
      "source": [
        "s"
      ],
      "execution_count": null,
      "outputs": [
        {
          "data": {
            "text/plain": [
              "'WELCOME'"
            ]
          },
          "execution_count": 18,
          "metadata": {},
          "output_type": "execute_result"
        }
      ]
    },
    {
      "cell_type": "code",
      "metadata": {
        "id": "srg6601ck8Yq",
        "outputId": "d997e8df-cfc7-4375-c46c-22761f6dee20"
      },
      "source": [
        "s.index(\"L\")"
      ],
      "execution_count": null,
      "outputs": [
        {
          "data": {
            "text/plain": [
              "2"
            ]
          },
          "execution_count": 19,
          "metadata": {},
          "output_type": "execute_result"
        }
      ]
    },
    {
      "cell_type": "markdown",
      "metadata": {
        "id": "vOvEitCMk8Yq"
      },
      "source": [
        "### Negative Indexing"
      ]
    },
    {
      "cell_type": "code",
      "metadata": {
        "id": "Iq9SJckKk8Yq",
        "outputId": "a92d6ee5-0521-4744-f03b-fe5abf25d6f4"
      },
      "source": [
        "s[-1]"
      ],
      "execution_count": null,
      "outputs": [
        {
          "data": {
            "text/plain": [
              "'E'"
            ]
          },
          "execution_count": 20,
          "metadata": {},
          "output_type": "execute_result"
        }
      ]
    },
    {
      "cell_type": "code",
      "metadata": {
        "id": "jzuUQk3Pk8Yr",
        "outputId": "3913d61d-6e2f-46da-d482-ef6039ea5aaa"
      },
      "source": [
        "s[-7]"
      ],
      "execution_count": null,
      "outputs": [
        {
          "data": {
            "text/plain": [
              "'W'"
            ]
          },
          "execution_count": 21,
          "metadata": {},
          "output_type": "execute_result"
        }
      ]
    },
    {
      "cell_type": "code",
      "metadata": {
        "id": "6jRtJijAk8Yr",
        "outputId": "10b8b7bf-62b8-4c49-bc54-67b34ec69a9a"
      },
      "source": [
        "s[-8]"
      ],
      "execution_count": null,
      "outputs": [
        {
          "ename": "IndexError",
          "evalue": "string index out of range",
          "output_type": "error",
          "traceback": [
            "\u001b[1;31m---------------------------------------------------------------------------\u001b[0m",
            "\u001b[1;31mIndexError\u001b[0m                                Traceback (most recent call last)",
            "\u001b[1;32m<ipython-input-22-28d43f500622>\u001b[0m in \u001b[0;36m<module>\u001b[1;34m\u001b[0m\n\u001b[1;32m----> 1\u001b[1;33m \u001b[0ms\u001b[0m\u001b[1;33m[\u001b[0m\u001b[1;33m-\u001b[0m\u001b[1;36m8\u001b[0m\u001b[1;33m]\u001b[0m\u001b[1;33m\u001b[0m\u001b[1;33m\u001b[0m\u001b[0m\n\u001b[0m",
            "\u001b[1;31mIndexError\u001b[0m: string index out of range"
          ]
        }
      ]
    },
    {
      "cell_type": "markdown",
      "metadata": {
        "id": "J2w5THCuk8Yr"
      },
      "source": [
        "## Slicing\n",
        "* Extracts a substring from a string\n",
        "* Syntax: StartPos: EndPos : SkipCount / Direction\n",
        "* StarPos -> Included, End Pos -> Excluded\n",
        "* By Default, slicing always works from left to right (unless changed by direction)"
      ]
    },
    {
      "cell_type": "code",
      "metadata": {
        "id": "rMBCxj_Ck8Ys",
        "outputId": "2f2361dc-1ec7-44d3-94c4-9d5a522f04a7"
      },
      "source": [
        "s[0:3]"
      ],
      "execution_count": null,
      "outputs": [
        {
          "data": {
            "text/plain": [
              "'WEL'"
            ]
          },
          "execution_count": 23,
          "metadata": {},
          "output_type": "execute_result"
        }
      ]
    },
    {
      "cell_type": "code",
      "metadata": {
        "id": "PSlzuPW0k8Ys",
        "outputId": "cabb9c2f-f505-46a8-9ebe-225cb9308c6e"
      },
      "source": [
        "s[3:7]"
      ],
      "execution_count": null,
      "outputs": [
        {
          "data": {
            "text/plain": [
              "'COME'"
            ]
          },
          "execution_count": 24,
          "metadata": {},
          "output_type": "execute_result"
        }
      ]
    },
    {
      "cell_type": "code",
      "metadata": {
        "id": "GOMPgCjXk8Ys",
        "outputId": "0aa3f442-d1f2-4c0b-ed70-76a14e54e990"
      },
      "source": [
        "s[:3]"
      ],
      "execution_count": null,
      "outputs": [
        {
          "data": {
            "text/plain": [
              "'WEL'"
            ]
          },
          "execution_count": 25,
          "metadata": {},
          "output_type": "execute_result"
        }
      ]
    },
    {
      "cell_type": "code",
      "metadata": {
        "id": "m1rnh-eZk8Ys",
        "outputId": "bd6318ee-4e58-45a7-9699-1ca6b6d19226"
      },
      "source": [
        "s[3:]"
      ],
      "execution_count": null,
      "outputs": [
        {
          "data": {
            "text/plain": [
              "'COME'"
            ]
          },
          "execution_count": 26,
          "metadata": {},
          "output_type": "execute_result"
        }
      ]
    },
    {
      "cell_type": "code",
      "metadata": {
        "id": "FMnKxlcJk8Yt",
        "outputId": "4f7350f1-fd2b-4cfd-8e7d-074c48d70fa1"
      },
      "source": [
        "s[3:100]"
      ],
      "execution_count": null,
      "outputs": [
        {
          "data": {
            "text/plain": [
              "'COME'"
            ]
          },
          "execution_count": 27,
          "metadata": {},
          "output_type": "execute_result"
        }
      ]
    },
    {
      "cell_type": "code",
      "metadata": {
        "id": "UYs5LG8ek8Yt"
      },
      "source": [
        "# Negative indexing can also be used for slicing"
      ],
      "execution_count": null,
      "outputs": []
    },
    {
      "cell_type": "code",
      "metadata": {
        "id": "xmSe96PHk8Yt",
        "outputId": "ff355aac-41d0-47f1-e1b7-32dfb1f33adb"
      },
      "source": [
        "s[-7:-4]"
      ],
      "execution_count": null,
      "outputs": [
        {
          "data": {
            "text/plain": [
              "'WEL'"
            ]
          },
          "execution_count": 29,
          "metadata": {},
          "output_type": "execute_result"
        }
      ]
    },
    {
      "cell_type": "code",
      "metadata": {
        "id": "wCdABxQZk8Yt",
        "outputId": "59fedea7-76b5-4b4a-f2ed-e38e8a9150bc"
      },
      "source": [
        "s[:-4]"
      ],
      "execution_count": null,
      "outputs": [
        {
          "data": {
            "text/plain": [
              "'WEL'"
            ]
          },
          "execution_count": 30,
          "metadata": {},
          "output_type": "execute_result"
        }
      ]
    },
    {
      "cell_type": "code",
      "metadata": {
        "id": "oNbsIk7hk8Yu",
        "outputId": "0a05c092-cfcb-4b60-c7f5-9bb54b8b2861"
      },
      "source": [
        "s[-1:-4]"
      ],
      "execution_count": null,
      "outputs": [
        {
          "data": {
            "text/plain": [
              "''"
            ]
          },
          "execution_count": 31,
          "metadata": {},
          "output_type": "execute_result"
        }
      ]
    },
    {
      "cell_type": "code",
      "metadata": {
        "id": "H0pqPtMGk8Yu",
        "outputId": "353df646-f223-4104-c905-70697ff6441e"
      },
      "source": [
        "s[-7:3]"
      ],
      "execution_count": null,
      "outputs": [
        {
          "data": {
            "text/plain": [
              "'WEL'"
            ]
          },
          "execution_count": 32,
          "metadata": {},
          "output_type": "execute_result"
        }
      ]
    },
    {
      "cell_type": "code",
      "metadata": {
        "id": "FlZrFGmZk8Yu",
        "outputId": "93a73124-935f-4aaa-d3ee-ccfd1189f46c"
      },
      "source": [
        "s[-100:3]"
      ],
      "execution_count": null,
      "outputs": [
        {
          "data": {
            "text/plain": [
              "'WEL'"
            ]
          },
          "execution_count": 33,
          "metadata": {},
          "output_type": "execute_result"
        }
      ]
    },
    {
      "cell_type": "code",
      "metadata": {
        "id": "-rnkTcXCk8Yu",
        "outputId": "2247980e-69d1-4ecb-c40f-554ff5a897e4"
      },
      "source": [
        "s[:]"
      ],
      "execution_count": null,
      "outputs": [
        {
          "data": {
            "text/plain": [
              "'WELCOME'"
            ]
          },
          "execution_count": 34,
          "metadata": {},
          "output_type": "execute_result"
        }
      ]
    },
    {
      "cell_type": "code",
      "metadata": {
        "id": "XYTzaqARk8Yu",
        "outputId": "e0d25ff1-c8d1-44d8-a681-887c45a8264d"
      },
      "source": [
        "s[]"
      ],
      "execution_count": null,
      "outputs": [
        {
          "ename": "SyntaxError",
          "evalue": "invalid syntax (<ipython-input-35-d5d19ff545f3>, line 1)",
          "output_type": "error",
          "traceback": [
            "\u001b[1;36m  File \u001b[1;32m\"<ipython-input-35-d5d19ff545f3>\"\u001b[1;36m, line \u001b[1;32m1\u001b[0m\n\u001b[1;33m    s[]\u001b[0m\n\u001b[1;37m      ^\u001b[0m\n\u001b[1;31mSyntaxError\u001b[0m\u001b[1;31m:\u001b[0m invalid syntax\n"
          ]
        }
      ]
    },
    {
      "cell_type": "code",
      "metadata": {
        "id": "DBM6-IZgk8Yv"
      },
      "source": [
        "# Write a program to extract 'Class' from the below string (using slicing)\n",
        "msg = \"Welcome to Python Programming Class\""
      ],
      "execution_count": null,
      "outputs": []
    },
    {
      "cell_type": "code",
      "metadata": {
        "id": "W7Ookj5Mk8Yv",
        "outputId": "a7607bd0-97ad-412e-fcf0-ab39d25c350b"
      },
      "source": [
        "len(msg)"
      ],
      "execution_count": null,
      "outputs": [
        {
          "data": {
            "text/plain": [
              "35"
            ]
          },
          "execution_count": 44,
          "metadata": {},
          "output_type": "execute_result"
        }
      ]
    },
    {
      "cell_type": "code",
      "metadata": {
        "id": "wGBPiGv-k8Yv",
        "outputId": "2cf7a888-ad56-430b-cc97-cbb5a3c57cb7"
      },
      "source": [
        "msg[-5:]"
      ],
      "execution_count": null,
      "outputs": [
        {
          "data": {
            "text/plain": [
              "'Class'"
            ]
          },
          "execution_count": 39,
          "metadata": {},
          "output_type": "execute_result"
        }
      ]
    },
    {
      "cell_type": "code",
      "metadata": {
        "id": "WNouFZMXk8Yv",
        "outputId": "261f0cee-edef-4585-cdf5-5b30433cc18d"
      },
      "source": [
        "msg[30:]"
      ],
      "execution_count": null,
      "outputs": [
        {
          "data": {
            "text/plain": [
              "'Class'"
            ]
          },
          "execution_count": 40,
          "metadata": {},
          "output_type": "execute_result"
        }
      ]
    },
    {
      "cell_type": "code",
      "metadata": {
        "id": "UHmcK7Ejk8Yv",
        "outputId": "d9332c46-8ceb-4edf-8611-c747e269aeae"
      },
      "source": [
        "msg[-5]"
      ],
      "execution_count": null,
      "outputs": [
        {
          "data": {
            "text/plain": [
              "'C'"
            ]
          },
          "execution_count": 41,
          "metadata": {},
          "output_type": "execute_result"
        }
      ]
    },
    {
      "cell_type": "code",
      "metadata": {
        "id": "AmF_ZOBJk8Yw",
        "outputId": "986b040d-fb15-4160-9935-85e7384d6e53"
      },
      "source": [
        "msg[-5:]"
      ],
      "execution_count": null,
      "outputs": [
        {
          "data": {
            "text/plain": [
              "'Class'"
            ]
          },
          "execution_count": 42,
          "metadata": {},
          "output_type": "execute_result"
        }
      ]
    },
    {
      "cell_type": "code",
      "metadata": {
        "id": "hruYXN_Ek8Yw"
      },
      "source": [
        "# () => Paranthesis\n",
        "# [] => Square Bracket / Subscript Operator\n",
        "# {} => Curly Brackets / Flower Brackets"
      ],
      "execution_count": null,
      "outputs": []
    },
    {
      "cell_type": "code",
      "metadata": {
        "id": "pHP00373k8Yw"
      },
      "source": [
        ""
      ],
      "execution_count": null,
      "outputs": []
    },
    {
      "cell_type": "code",
      "metadata": {
        "id": "OelMaorzk8Yw",
        "outputId": "681ac978-2972-4b46-d640-e869c4da84c7"
      },
      "source": [
        "s"
      ],
      "execution_count": null,
      "outputs": [
        {
          "data": {
            "text/plain": [
              "'WELCOME'"
            ]
          },
          "execution_count": 51,
          "metadata": {},
          "output_type": "execute_result"
        }
      ]
    },
    {
      "cell_type": "code",
      "metadata": {
        "id": "YReeieo7k8Yw",
        "outputId": "0cc54051-a3dc-4de0-9dfc-7564808b2077"
      },
      "source": [
        "s[:]"
      ],
      "execution_count": null,
      "outputs": [
        {
          "data": {
            "text/plain": [
              "'WELCOME'"
            ]
          },
          "execution_count": 52,
          "metadata": {},
          "output_type": "execute_result"
        }
      ]
    },
    {
      "cell_type": "code",
      "metadata": {
        "id": "AePaZ2cBk8Yx",
        "outputId": "472127ad-54d7-478c-be4d-c6b795bd9b84"
      },
      "source": [
        "s[::2]"
      ],
      "execution_count": null,
      "outputs": [
        {
          "data": {
            "text/plain": [
              "'WLOE'"
            ]
          },
          "execution_count": 53,
          "metadata": {},
          "output_type": "execute_result"
        }
      ]
    },
    {
      "cell_type": "code",
      "metadata": {
        "id": "zcr-Xv4Ck8Yx",
        "outputId": "fd4f9a68-7703-4382-ad9d-e305e3797b8b"
      },
      "source": [
        "s[-1:-4]"
      ],
      "execution_count": null,
      "outputs": [
        {
          "data": {
            "text/plain": [
              "''"
            ]
          },
          "execution_count": 54,
          "metadata": {},
          "output_type": "execute_result"
        }
      ]
    },
    {
      "cell_type": "code",
      "metadata": {
        "id": "RezIVVeNk8Yx",
        "outputId": "be83d02d-008e-404c-a249-e63f2d8f5f57"
      },
      "source": [
        "s[::3]"
      ],
      "execution_count": null,
      "outputs": [
        {
          "data": {
            "text/plain": [
              "'WCE'"
            ]
          },
          "execution_count": 55,
          "metadata": {},
          "output_type": "execute_result"
        }
      ]
    },
    {
      "cell_type": "code",
      "metadata": {
        "id": "rWMhebh3k8Yx",
        "outputId": "83f327b9-bc3e-4a3a-d20a-b490c81f410b"
      },
      "source": [
        "s[::1]"
      ],
      "execution_count": null,
      "outputs": [
        {
          "data": {
            "text/plain": [
              "'WELCOME'"
            ]
          },
          "execution_count": 56,
          "metadata": {},
          "output_type": "execute_result"
        }
      ]
    },
    {
      "cell_type": "code",
      "metadata": {
        "id": "lNe4pPqCk8Yx",
        "outputId": "a991fcea-c6ba-4b7d-b138-221646bcc982"
      },
      "source": [
        "s[::-1]"
      ],
      "execution_count": null,
      "outputs": [
        {
          "data": {
            "text/plain": [
              "'EMOCLEW'"
            ]
          },
          "execution_count": 57,
          "metadata": {},
          "output_type": "execute_result"
        }
      ]
    },
    {
      "cell_type": "code",
      "metadata": {
        "id": "4RBTIrGbk8Yy",
        "outputId": "b6dea093-3582-4f77-b1e9-489e3faa118e"
      },
      "source": [
        "s[::-2]"
      ],
      "execution_count": null,
      "outputs": [
        {
          "data": {
            "text/plain": [
              "'EOLW'"
            ]
          },
          "execution_count": 58,
          "metadata": {},
          "output_type": "execute_result"
        }
      ]
    },
    {
      "cell_type": "code",
      "metadata": {
        "id": "Sfi67cTWk8Yy"
      },
      "source": [
        ""
      ],
      "execution_count": null,
      "outputs": []
    },
    {
      "cell_type": "code",
      "metadata": {
        "id": "7owCB2cUk8Yy",
        "outputId": "cbdf0909-9794-48dd-95db-c9a8cd8f6718"
      },
      "source": [
        "s"
      ],
      "execution_count": null,
      "outputs": [
        {
          "data": {
            "text/plain": [
              "'WELCOME'"
            ]
          },
          "execution_count": 59,
          "metadata": {},
          "output_type": "execute_result"
        }
      ]
    },
    {
      "cell_type": "code",
      "metadata": {
        "id": "Q8dTXiGTk8Yy",
        "outputId": "fbb05235-f999-40ca-d313-11370896830e"
      },
      "source": [
        "s + 10"
      ],
      "execution_count": null,
      "outputs": [
        {
          "ename": "TypeError",
          "evalue": "can only concatenate str (not \"int\") to str",
          "output_type": "error",
          "traceback": [
            "\u001b[1;31m---------------------------------------------------------------------------\u001b[0m",
            "\u001b[1;31mTypeError\u001b[0m                                 Traceback (most recent call last)",
            "\u001b[1;32m<ipython-input-60-30fc4c06cb2b>\u001b[0m in \u001b[0;36m<module>\u001b[1;34m\u001b[0m\n\u001b[1;32m----> 1\u001b[1;33m \u001b[0ms\u001b[0m \u001b[1;33m+\u001b[0m \u001b[1;36m10\u001b[0m\u001b[1;33m\u001b[0m\u001b[1;33m\u001b[0m\u001b[0m\n\u001b[0m",
            "\u001b[1;31mTypeError\u001b[0m: can only concatenate str (not \"int\") to str"
          ]
        }
      ]
    },
    {
      "cell_type": "code",
      "metadata": {
        "id": "maOwY-n4k8Yy",
        "outputId": "72f057c6-5e1d-4127-873c-8c6f93d7d61e"
      },
      "source": [
        "s + \"10\""
      ],
      "execution_count": null,
      "outputs": [
        {
          "data": {
            "text/plain": [
              "'WELCOME10'"
            ]
          },
          "execution_count": 61,
          "metadata": {},
          "output_type": "execute_result"
        }
      ]
    },
    {
      "cell_type": "code",
      "metadata": {
        "id": "GQ2TDXw_k8Yz",
        "outputId": "d50dcc68-e7e6-42e2-f1fa-c4752b1699bd"
      },
      "source": [
        "s"
      ],
      "execution_count": null,
      "outputs": [
        {
          "data": {
            "text/plain": [
              "'WELCOME'"
            ]
          },
          "execution_count": 62,
          "metadata": {},
          "output_type": "execute_result"
        }
      ]
    },
    {
      "cell_type": "code",
      "metadata": {
        "id": "bvFkGTQvk8Yz",
        "outputId": "10fbf033-bd23-4be0-f49d-f6b0983beb14"
      },
      "source": [
        "s[::3]"
      ],
      "execution_count": null,
      "outputs": [
        {
          "data": {
            "text/plain": [
              "'WCE'"
            ]
          },
          "execution_count": 63,
          "metadata": {},
          "output_type": "execute_result"
        }
      ]
    },
    {
      "cell_type": "code",
      "metadata": {
        "id": "qgzzIA6rk8Yz",
        "outputId": "7ac74183-1de6-44f1-83fb-c6dab7116afa"
      },
      "source": [
        "s - 10"
      ],
      "execution_count": null,
      "outputs": [
        {
          "ename": "TypeError",
          "evalue": "unsupported operand type(s) for -: 'str' and 'int'",
          "output_type": "error",
          "traceback": [
            "\u001b[1;31m---------------------------------------------------------------------------\u001b[0m",
            "\u001b[1;31mTypeError\u001b[0m                                 Traceback (most recent call last)",
            "\u001b[1;32m<ipython-input-64-840b4444eee6>\u001b[0m in \u001b[0;36m<module>\u001b[1;34m\u001b[0m\n\u001b[1;32m----> 1\u001b[1;33m \u001b[0ms\u001b[0m \u001b[1;33m-\u001b[0m \u001b[1;36m10\u001b[0m\u001b[1;33m\u001b[0m\u001b[1;33m\u001b[0m\u001b[0m\n\u001b[0m",
            "\u001b[1;31mTypeError\u001b[0m: unsupported operand type(s) for -: 'str' and 'int'"
          ]
        }
      ]
    },
    {
      "cell_type": "code",
      "metadata": {
        "id": "aI0V4LeAk8Yz",
        "outputId": "f3b700f4-decc-4f28-c66b-37ffbe81c1f0"
      },
      "source": [
        "s * 3"
      ],
      "execution_count": null,
      "outputs": [
        {
          "data": {
            "text/plain": [
              "'WELCOMEWELCOMEWELCOME'"
            ]
          },
          "execution_count": 65,
          "metadata": {},
          "output_type": "execute_result"
        }
      ]
    },
    {
      "cell_type": "code",
      "metadata": {
        "id": "DklnObAXk8Y0"
      },
      "source": [
        "# * operator can be either a multiplication operator or repetition operator"
      ],
      "execution_count": null,
      "outputs": []
    },
    {
      "cell_type": "code",
      "metadata": {
        "id": "LRmTthM2k8Y0"
      },
      "source": [
        "a = 'python'"
      ],
      "execution_count": null,
      "outputs": []
    },
    {
      "cell_type": "code",
      "metadata": {
        "id": "1uwqTDUbk8Y0",
        "outputId": "20219e41-450e-4c46-8c56-58f9bfca114e"
      },
      "source": [
        "s + \"10\""
      ],
      "execution_count": null,
      "outputs": [
        {
          "data": {
            "text/plain": [
              "'WELCOME10'"
            ]
          },
          "execution_count": 68,
          "metadata": {},
          "output_type": "execute_result"
        }
      ]
    },
    {
      "cell_type": "code",
      "metadata": {
        "id": "WNgaWbZOk8Y0",
        "outputId": "0f74efa6-01f2-47a1-8d6c-34fb9a0cf8ce"
      },
      "source": [
        "\"WELCOME \" * 3"
      ],
      "execution_count": null,
      "outputs": [
        {
          "data": {
            "text/plain": [
              "'WELCOME WELCOME WELCOME '"
            ]
          },
          "execution_count": 69,
          "metadata": {},
          "output_type": "execute_result"
        }
      ]
    },
    {
      "cell_type": "code",
      "metadata": {
        "id": "ZTLZsHHXk8Y0",
        "outputId": "03ded6ae-169e-448a-82de-99bf1dda1c7e"
      },
      "source": [
        "s - \"10\""
      ],
      "execution_count": null,
      "outputs": [
        {
          "ename": "TypeError",
          "evalue": "unsupported operand type(s) for -: 'str' and 'str'",
          "output_type": "error",
          "traceback": [
            "\u001b[1;31m---------------------------------------------------------------------------\u001b[0m",
            "\u001b[1;31mTypeError\u001b[0m                                 Traceback (most recent call last)",
            "\u001b[1;32m<ipython-input-70-5a1101bf5b68>\u001b[0m in \u001b[0;36m<module>\u001b[1;34m\u001b[0m\n\u001b[1;32m----> 1\u001b[1;33m \u001b[0ms\u001b[0m \u001b[1;33m-\u001b[0m \u001b[1;34m\"10\"\u001b[0m\u001b[1;33m\u001b[0m\u001b[1;33m\u001b[0m\u001b[0m\n\u001b[0m",
            "\u001b[1;31mTypeError\u001b[0m: unsupported operand type(s) for -: 'str' and 'str'"
          ]
        }
      ]
    },
    {
      "cell_type": "code",
      "metadata": {
        "id": "hye_X_TDk8Y1",
        "outputId": "7caa558f-ff6c-4def-899b-74adf8d6c226"
      },
      "source": [
        "s + \" \" + \"10\""
      ],
      "execution_count": null,
      "outputs": [
        {
          "data": {
            "text/plain": [
              "'WELCOME 10'"
            ]
          },
          "execution_count": 71,
          "metadata": {},
          "output_type": "execute_result"
        }
      ]
    },
    {
      "cell_type": "markdown",
      "metadata": {
        "id": "6Q4Or0jPk8Y1"
      },
      "source": [
        "## Lists\n",
        "* Ordered Collection of items / elements / objects\n",
        "* Syntax: [ ]\n",
        "* MUTABLE"
      ]
    },
    {
      "cell_type": "code",
      "metadata": {
        "id": "HGG2XXusk8Y1"
      },
      "source": [
        "languages = [\"C\", \"CPP\", \"Java\", \"C#\"]"
      ],
      "execution_count": null,
      "outputs": []
    },
    {
      "cell_type": "code",
      "metadata": {
        "id": "Y3vixfgHk8Y1",
        "outputId": "0cbd5e99-6717-4895-a374-756c9f49a1c6"
      },
      "source": [
        "languages"
      ],
      "execution_count": null,
      "outputs": [
        {
          "data": {
            "text/plain": [
              "['C', 'CPP', 'Java', 'C#']"
            ]
          },
          "execution_count": 73,
          "metadata": {},
          "output_type": "execute_result"
        }
      ]
    },
    {
      "cell_type": "code",
      "metadata": {
        "id": "uspTtnlbk8Y1",
        "outputId": "ede8d0ee-342c-4f5a-eb02-34d11a12b85c"
      },
      "source": [
        "print(type(languages))"
      ],
      "execution_count": null,
      "outputs": [
        {
          "name": "stdout",
          "output_type": "stream",
          "text": [
            "<class 'list'>\n"
          ]
        }
      ]
    },
    {
      "cell_type": "code",
      "metadata": {
        "id": "3Es1v5YEk8Y2",
        "outputId": "b093f80f-3f83-4b29-a089-68e58109889d"
      },
      "source": [
        "len(languages)"
      ],
      "execution_count": null,
      "outputs": [
        {
          "data": {
            "text/plain": [
              "4"
            ]
          },
          "execution_count": 75,
          "metadata": {},
          "output_type": "execute_result"
        }
      ]
    },
    {
      "cell_type": "code",
      "metadata": {
        "id": "6xypy9VEk8Y2",
        "outputId": "e416e3eb-6491-4a0f-b0d5-ea7b0df2eca5"
      },
      "source": [
        "languages[0]"
      ],
      "execution_count": null,
      "outputs": [
        {
          "data": {
            "text/plain": [
              "'C'"
            ]
          },
          "execution_count": 76,
          "metadata": {},
          "output_type": "execute_result"
        }
      ]
    },
    {
      "cell_type": "code",
      "metadata": {
        "id": "g0jAvDmJk8Y2",
        "outputId": "8b175309-f2ea-44fc-b47b-71a241284729"
      },
      "source": [
        "languages[3]"
      ],
      "execution_count": null,
      "outputs": [
        {
          "data": {
            "text/plain": [
              "'C#'"
            ]
          },
          "execution_count": 77,
          "metadata": {},
          "output_type": "execute_result"
        }
      ]
    },
    {
      "cell_type": "code",
      "metadata": {
        "id": "xraOJwGYk8Y2",
        "outputId": "cdd978c6-cd83-4674-e6d0-bef0506d49d2"
      },
      "source": [
        "languages[-1]"
      ],
      "execution_count": null,
      "outputs": [
        {
          "data": {
            "text/plain": [
              "'C#'"
            ]
          },
          "execution_count": 78,
          "metadata": {},
          "output_type": "execute_result"
        }
      ]
    },
    {
      "cell_type": "code",
      "metadata": {
        "id": "r3S2aKAHk8Y2",
        "outputId": "16776a14-56dc-4786-d8fc-5806efb6a5ac"
      },
      "source": [
        "languages[-2]"
      ],
      "execution_count": null,
      "outputs": [
        {
          "data": {
            "text/plain": [
              "'Java'"
            ]
          },
          "execution_count": 79,
          "metadata": {},
          "output_type": "execute_result"
        }
      ]
    },
    {
      "cell_type": "code",
      "metadata": {
        "id": "Q5hjbtP1k8Y3",
        "outputId": "5d81bb56-af1a-4549-ac01-7f10cb541900"
      },
      "source": [
        "languages[-2][0]"
      ],
      "execution_count": null,
      "outputs": [
        {
          "data": {
            "text/plain": [
              "'J'"
            ]
          },
          "execution_count": 80,
          "metadata": {},
          "output_type": "execute_result"
        }
      ]
    },
    {
      "cell_type": "code",
      "metadata": {
        "id": "u0qgYnOkk8Y3",
        "outputId": "c5557859-ab5a-4c5c-bab1-b04b679203e1"
      },
      "source": [
        "languages"
      ],
      "execution_count": null,
      "outputs": [
        {
          "data": {
            "text/plain": [
              "['C', 'CPP', 'Java', 'C#']"
            ]
          },
          "execution_count": 81,
          "metadata": {},
          "output_type": "execute_result"
        }
      ]
    },
    {
      "cell_type": "code",
      "metadata": {
        "id": "rGEYhS4Yk8Y3"
      },
      "source": [
        "# using slicing extract 'cpp' and 'Java'"
      ],
      "execution_count": null,
      "outputs": []
    },
    {
      "cell_type": "code",
      "metadata": {
        "id": "MxPLGVUbk8Y3",
        "outputId": "49164dbe-871b-4f2d-8423-5ed82769399c"
      },
      "source": [
        "languages[1:3]"
      ],
      "execution_count": null,
      "outputs": [
        {
          "data": {
            "text/plain": [
              "['CPP', 'Java']"
            ]
          },
          "execution_count": 83,
          "metadata": {},
          "output_type": "execute_result"
        }
      ]
    },
    {
      "cell_type": "code",
      "metadata": {
        "id": "UucJt79Mk8Y3",
        "outputId": "0d3d8671-d003-4d50-c1f9-0cc07ca0d1a2"
      },
      "source": [
        "languages + 10"
      ],
      "execution_count": null,
      "outputs": [
        {
          "ename": "TypeError",
          "evalue": "can only concatenate list (not \"int\") to list",
          "output_type": "error",
          "traceback": [
            "\u001b[1;31m---------------------------------------------------------------------------\u001b[0m",
            "\u001b[1;31mTypeError\u001b[0m                                 Traceback (most recent call last)",
            "\u001b[1;32m<ipython-input-84-cd258c513c2d>\u001b[0m in \u001b[0;36m<module>\u001b[1;34m\u001b[0m\n\u001b[1;32m----> 1\u001b[1;33m \u001b[0mlanguages\u001b[0m \u001b[1;33m+\u001b[0m \u001b[1;36m10\u001b[0m\u001b[1;33m\u001b[0m\u001b[1;33m\u001b[0m\u001b[0m\n\u001b[0m",
            "\u001b[1;31mTypeError\u001b[0m: can only concatenate list (not \"int\") to list"
          ]
        }
      ]
    },
    {
      "cell_type": "code",
      "metadata": {
        "id": "gH7pN4B5k8Y4",
        "outputId": "6a7b343a-1437-4cfd-9b02-e58f07e7fcc2"
      },
      "source": [
        "languages + [10]"
      ],
      "execution_count": null,
      "outputs": [
        {
          "data": {
            "text/plain": [
              "['C', 'CPP', 'Java', 'C#', 10]"
            ]
          },
          "execution_count": 85,
          "metadata": {},
          "output_type": "execute_result"
        }
      ]
    },
    {
      "cell_type": "code",
      "metadata": {
        "id": "2fU5gG4Dk8Y4",
        "outputId": "c25ca70f-9719-4448-926d-f607bd02ce10"
      },
      "source": [
        "languages"
      ],
      "execution_count": null,
      "outputs": [
        {
          "data": {
            "text/plain": [
              "['C', 'CPP', 'Java', 'C#']"
            ]
          },
          "execution_count": 86,
          "metadata": {},
          "output_type": "execute_result"
        }
      ]
    },
    {
      "cell_type": "code",
      "metadata": {
        "id": "4ZfDcMB-k8Y4",
        "outputId": "d3f76732-44ab-4bdf-a85d-610e326d2d7f"
      },
      "source": [
        "languages * 3"
      ],
      "execution_count": null,
      "outputs": [
        {
          "data": {
            "text/plain": [
              "['C', 'CPP', 'Java', 'C#', 'C', 'CPP', 'Java', 'C#', 'C', 'CPP', 'Java', 'C#']"
            ]
          },
          "execution_count": 87,
          "metadata": {},
          "output_type": "execute_result"
        }
      ]
    },
    {
      "cell_type": "code",
      "metadata": {
        "id": "869C3DSnk8Y4",
        "outputId": "3b69144a-3c06-4e80-b651-e1a58c652e1f"
      },
      "source": [
        "languages"
      ],
      "execution_count": null,
      "outputs": [
        {
          "data": {
            "text/plain": [
              "['C', 'CPP', 'Java', 'C#']"
            ]
          },
          "execution_count": 88,
          "metadata": {},
          "output_type": "execute_result"
        }
      ]
    },
    {
      "cell_type": "code",
      "metadata": {
        "id": "ehRW2fCmk8Y4",
        "outputId": "aec5fde7-f66d-4321-97bb-71eaf63d877e"
      },
      "source": [
        "languages[2:3]"
      ],
      "execution_count": null,
      "outputs": [
        {
          "data": {
            "text/plain": [
              "['Java']"
            ]
          },
          "execution_count": 89,
          "metadata": {},
          "output_type": "execute_result"
        }
      ]
    },
    {
      "cell_type": "code",
      "metadata": {
        "id": "15UIY3B-k8Y5",
        "outputId": "5e352cd6-a910-405c-a056-05c86663abf2"
      },
      "source": [
        "languages"
      ],
      "execution_count": null,
      "outputs": [
        {
          "data": {
            "text/plain": [
              "['C', 'CPP', 'Java', 'C#']"
            ]
          },
          "execution_count": 90,
          "metadata": {},
          "output_type": "execute_result"
        }
      ]
    },
    {
      "cell_type": "code",
      "metadata": {
        "id": "q0w1LDc8k8Y5"
      },
      "source": [
        "# Write a code to extract # from the above list"
      ],
      "execution_count": null,
      "outputs": []
    },
    {
      "cell_type": "code",
      "metadata": {
        "id": "pfpwuZGfk8Y5",
        "outputId": "0f245ff8-2def-4c38-e8cc-3a65f0fc22e7"
      },
      "source": [
        "languages[-1][-1]"
      ],
      "execution_count": null,
      "outputs": [
        {
          "data": {
            "text/plain": [
              "'#'"
            ]
          },
          "execution_count": 92,
          "metadata": {},
          "output_type": "execute_result"
        }
      ]
    },
    {
      "cell_type": "code",
      "metadata": {
        "id": "bbRIFRtJk8Y5",
        "outputId": "9438c7cf-e802-4366-9385-a2c2c7858ea1"
      },
      "source": [
        "languages[3][1]"
      ],
      "execution_count": null,
      "outputs": [
        {
          "data": {
            "text/plain": [
              "'#'"
            ]
          },
          "execution_count": 93,
          "metadata": {},
          "output_type": "execute_result"
        }
      ]
    },
    {
      "cell_type": "code",
      "metadata": {
        "id": "KVldIygGk8Y5"
      },
      "source": [
        ""
      ],
      "execution_count": null,
      "outputs": []
    },
    {
      "cell_type": "code",
      "metadata": {
        "id": "fTntQJ-kk8Y6"
      },
      "source": [
        "# Append\n",
        "# Insert\n",
        "# Remove\n",
        "# Pop\n",
        "# Reverse\n",
        "# Sort\n",
        "# Del\n",
        "# Index\n",
        "# Count"
      ],
      "execution_count": null,
      "outputs": []
    },
    {
      "cell_type": "code",
      "metadata": {
        "id": "R4Z-fY3uk8Y6"
      },
      "source": [
        ""
      ],
      "execution_count": null,
      "outputs": []
    },
    {
      "cell_type": "code",
      "metadata": {
        "id": "RRdDiSsVk8Y6"
      },
      "source": [
        "f = 3.14"
      ],
      "execution_count": null,
      "outputs": []
    },
    {
      "cell_type": "code",
      "metadata": {
        "id": "M2uS_23rk8Y6",
        "outputId": "652a3f3e-b315-49c4-8c58-310d0ee78fcd"
      },
      "source": [
        "print(type(f))"
      ],
      "execution_count": null,
      "outputs": [
        {
          "name": "stdout",
          "output_type": "stream",
          "text": [
            "<class 'float'>\n"
          ]
        }
      ]
    },
    {
      "cell_type": "code",
      "metadata": {
        "id": "d9R1dyIrk8Y6"
      },
      "source": [
        "a = True"
      ],
      "execution_count": null,
      "outputs": []
    },
    {
      "cell_type": "code",
      "metadata": {
        "id": "jBrPYmd2k8Y6",
        "outputId": "33db4cf6-060c-4b0e-bac8-204da63d4a52"
      },
      "source": [
        "print(type(a))"
      ],
      "execution_count": null,
      "outputs": [
        {
          "name": "stdout",
          "output_type": "stream",
          "text": [
            "<class 'bool'>\n"
          ]
        }
      ]
    },
    {
      "cell_type": "code",
      "metadata": {
        "id": "JbW12FJ1k8Y7"
      },
      "source": [
        "a = False"
      ],
      "execution_count": null,
      "outputs": []
    },
    {
      "cell_type": "code",
      "metadata": {
        "id": "bWuOifPok8Y7"
      },
      "source": [
        "a = 3 + 2j"
      ],
      "execution_count": null,
      "outputs": []
    },
    {
      "cell_type": "code",
      "metadata": {
        "id": "VM2sxI6Dk8Y7",
        "outputId": "f3d504d6-a753-470a-e901-8b3342858bb2"
      },
      "source": [
        "print(type(a))"
      ],
      "execution_count": null,
      "outputs": [
        {
          "name": "stdout",
          "output_type": "stream",
          "text": [
            "<class 'complex'>\n"
          ]
        }
      ]
    },
    {
      "cell_type": "code",
      "metadata": {
        "id": "HTqZ81Vrk8Y7"
      },
      "source": [
        ""
      ],
      "execution_count": null,
      "outputs": []
    },
    {
      "cell_type": "code",
      "metadata": {
        "id": "QDBcjDJyk8Y7",
        "outputId": "f371a06a-0f30-427a-88cf-969e215842bc"
      },
      "source": [
        "18 + 4"
      ],
      "execution_count": null,
      "outputs": [
        {
          "data": {
            "text/plain": [
              "22"
            ]
          },
          "execution_count": 102,
          "metadata": {},
          "output_type": "execute_result"
        }
      ]
    },
    {
      "cell_type": "code",
      "metadata": {
        "id": "kw-SA6uUk8Y7",
        "outputId": "359826d4-7b5f-40bb-b156-d8dc2e0b6c16"
      },
      "source": [
        "18 - 4"
      ],
      "execution_count": null,
      "outputs": [
        {
          "data": {
            "text/plain": [
              "14"
            ]
          },
          "execution_count": 103,
          "metadata": {},
          "output_type": "execute_result"
        }
      ]
    },
    {
      "cell_type": "code",
      "metadata": {
        "id": "cMUCJz7qk8Y8",
        "outputId": "25784b4c-0ba7-45ef-9ec6-eb559a5f2f30"
      },
      "source": [
        "18 * 4"
      ],
      "execution_count": null,
      "outputs": [
        {
          "data": {
            "text/plain": [
              "72"
            ]
          },
          "execution_count": 104,
          "metadata": {},
          "output_type": "execute_result"
        }
      ]
    },
    {
      "cell_type": "code",
      "metadata": {
        "id": "4sVjnclwk8Y8",
        "outputId": "12481ab3-f745-40b4-d012-754dbb3bba2f"
      },
      "source": [
        "18 / 4"
      ],
      "execution_count": null,
      "outputs": [
        {
          "data": {
            "text/plain": [
              "4.5"
            ]
          },
          "execution_count": 105,
          "metadata": {},
          "output_type": "execute_result"
        }
      ]
    },
    {
      "cell_type": "code",
      "metadata": {
        "id": "lU_TAYDck8Y8",
        "outputId": "a8716e29-dda5-4fe3-8178-c3cc5b28cade"
      },
      "source": [
        "18 // 4"
      ],
      "execution_count": null,
      "outputs": [
        {
          "data": {
            "text/plain": [
              "4"
            ]
          },
          "execution_count": 106,
          "metadata": {},
          "output_type": "execute_result"
        }
      ]
    },
    {
      "cell_type": "code",
      "metadata": {
        "id": "WaSvovCkk8Y8",
        "outputId": "adee4b0f-3768-4eb8-be21-7ae0f0cb2198"
      },
      "source": [
        "18 % 4"
      ],
      "execution_count": null,
      "outputs": [
        {
          "data": {
            "text/plain": [
              "2"
            ]
          },
          "execution_count": 107,
          "metadata": {},
          "output_type": "execute_result"
        }
      ]
    },
    {
      "cell_type": "code",
      "metadata": {
        "id": "fk9tP_Zvk8Y9"
      },
      "source": [
        ""
      ],
      "execution_count": null,
      "outputs": []
    }
  ]
}